{
 "cells": [
  {
   "cell_type": "markdown",
   "id": "282d002c",
   "metadata": {},
   "source": [
    "San Francisco City employee salary dataset: https://www.kaggle.com/datasets/kaggle/sf-salaries\n",
    "\n",
    "Download the SF Salary dataset from the above link"
   ]
  },
  {
   "cell_type": "markdown",
   "id": "69fb5ab3",
   "metadata": {},
   "source": [
    "#### Import Numpy and Pandas"
   ]
  },
  {
   "cell_type": "code",
   "execution_count": null,
   "id": "b6532cc6",
   "metadata": {},
   "outputs": [],
   "source": []
  },
  {
   "cell_type": "markdown",
   "id": "0afd2f43",
   "metadata": {},
   "source": [
    "#### Load CSV file"
   ]
  },
  {
   "cell_type": "markdown",
   "id": "5a12b1a1",
   "metadata": {},
   "source": [
    "Reference:\n",
    "\n",
    "[https://pandas.pydata.org/docs/reference/api/pandas.read_csv.html]()"
   ]
  },
  {
   "cell_type": "code",
   "execution_count": null,
   "id": "6032d755",
   "metadata": {},
   "outputs": [],
   "source": []
  },
  {
   "cell_type": "markdown",
   "id": "a9901092",
   "metadata": {},
   "source": [
    "#### Calculate Average Base Pay"
   ]
  },
  {
   "cell_type": "code",
   "execution_count": null,
   "id": "0cd5ab6b",
   "metadata": {},
   "outputs": [],
   "source": []
  },
  {
   "cell_type": "markdown",
   "id": "bfdfb120",
   "metadata": {},
   "source": [
    "#### What is the highest amount of OvertimePay in the dataset ?"
   ]
  },
  {
   "cell_type": "code",
   "execution_count": null,
   "id": "c760374a",
   "metadata": {},
   "outputs": [],
   "source": []
  },
  {
   "cell_type": "markdown",
   "id": "f8178b34",
   "metadata": {},
   "source": [
    "#### What is the job title of NATHANIEL FORD?"
   ]
  },
  {
   "cell_type": "code",
   "execution_count": null,
   "id": "f7978e53",
   "metadata": {},
   "outputs": [],
   "source": []
  },
  {
   "cell_type": "markdown",
   "id": "2a1e7674",
   "metadata": {},
   "source": [
    "#### How much does NATHANIEL FORD make including benefits?"
   ]
  },
  {
   "cell_type": "code",
   "execution_count": null,
   "id": "65ef2dc4",
   "metadata": {},
   "outputs": [],
   "source": []
  },
  {
   "cell_type": "markdown",
   "id": "f6a1442a",
   "metadata": {},
   "source": [
    "#### Highest paid person (including benefits)?"
   ]
  },
  {
   "cell_type": "code",
   "execution_count": null,
   "id": "896a52b6",
   "metadata": {},
   "outputs": [],
   "source": []
  },
  {
   "cell_type": "markdown",
   "id": "6d1e8b96",
   "metadata": {},
   "source": [
    "#### Lowest paid person (including benefits)?"
   ]
  },
  {
   "cell_type": "code",
   "execution_count": null,
   "id": "ac61b8b0",
   "metadata": {},
   "outputs": [],
   "source": []
  },
  {
   "cell_type": "markdown",
   "id": "49fc74af",
   "metadata": {},
   "source": [
    "#### What was the average BasePay of all employees per year ?"
   ]
  },
  {
   "cell_type": "code",
   "execution_count": null,
   "id": "2a6a17cc",
   "metadata": {},
   "outputs": [],
   "source": []
  },
  {
   "cell_type": "markdown",
   "id": "006a3300",
   "metadata": {},
   "source": [
    "#### How many unique job titles are there?"
   ]
  },
  {
   "cell_type": "code",
   "execution_count": null,
   "id": "c7cfadae",
   "metadata": {},
   "outputs": [],
   "source": []
  },
  {
   "cell_type": "markdown",
   "id": "d95dc787",
   "metadata": {},
   "source": [
    "#### What are the top 5 most common jobs?"
   ]
  },
  {
   "cell_type": "markdown",
   "id": "49b974fe",
   "metadata": {},
   "source": [
    "**References:**\n",
    "    \n",
    "[https://pandas.pydata.org/docs/reference/api/pandas.DataFrame.groupby.html]()\n",
    "    \n",
    "[https://pandas.pydata.org/docs/reference/api/pandas.DataFrame.sort_values.html]()"
   ]
  },
  {
   "cell_type": "markdown",
   "id": "31474db5",
   "metadata": {},
   "source": [
    "#### Job Titles with only one occurence in 2013?"
   ]
  },
  {
   "cell_type": "code",
   "execution_count": null,
   "id": "be9c0c5b",
   "metadata": {},
   "outputs": [],
   "source": []
  }
 ],
 "metadata": {
  "kernelspec": {
   "display_name": "Python 3",
   "language": "python",
   "name": "python3"
  },
  "language_info": {
   "codemirror_mode": {
    "name": "ipython",
    "version": 3
   },
   "file_extension": ".py",
   "mimetype": "text/x-python",
   "name": "python",
   "nbconvert_exporter": "python",
   "pygments_lexer": "ipython3",
   "version": "3.8.8"
  }
 },
 "nbformat": 4,
 "nbformat_minor": 5
}
