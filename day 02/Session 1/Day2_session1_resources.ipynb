{
  "nbformat": 4,
  "nbformat_minor": 0,
  "metadata": {
    "colab": {
      "name": "Day2_resources.ipynb",
      "provenance": [],
      "collapsed_sections": []
    },
    "kernelspec": {
      "name": "python3",
      "display_name": "Python 3"
    },
    "language_info": {
      "name": "python"
    }
  },
  "cells": [
    {
      "cell_type": "markdown",
      "source": [
        " class in Python\n",
        "\n",
        "Class Definition Syntax:\n",
        "\n",
        "class ClassName:\n",
        "    # Statement\n",
        "    \n",
        "Object Definiation Syntax: \n",
        "obj = ClassName()\n",
        "print(obj.atrr)"
      ],
      "metadata": {
        "id": "22vdH8IkkmlW"
      }
    },
    {
      "cell_type": "code",
      "execution_count": null,
      "metadata": {
        "colab": {
          "base_uri": "https://localhost:8080/"
        },
        "id": "fA1dIL90bYjG",
        "outputId": "7d1cc1e3-f533-4bf4-85ab-cfed8d9f616c"
      },
      "outputs": [
        {
          "output_type": "stream",
          "name": "stdout",
          "text": [
            "mammal\n",
            "I'm a mammal\n",
            "I'm a dog\n"
          ]
        }
      ],
      "source": [
        "\n",
        "\n",
        "# Example of a simple class\n",
        "class Dog:\n",
        " \n",
        "    \n",
        "    attr1 = \"mammal\" # attribute 1\n",
        "    attr2 = \"dog\"    # attribute 2\n",
        " \n",
        "    # A sample method\n",
        "    def fun(self):\n",
        "        print(\"I'm a\", self.attr1)\n",
        "        print(\"I'm a\", self.attr2)\n",
        "\n",
        "Bruno = Dog()  #creating object\n",
        " \n",
        "print(Bruno.attr1) # Accessing class attributes\n",
        "Bruno.fun()   # function call"
      ]
    },
    {
      "cell_type": "code",
      "source": [
        "# how to use the __init__() function\n",
        "\n",
        "class Example:\n",
        "    def __init__(self, course):\n",
        "        self.course_name=course\n",
        "    def display(self):\n",
        "        print(self.course_name)\n",
        "object1 = Example(\"Machine Learning \")\n",
        "object1.display()\n"
      ],
      "metadata": {
        "colab": {
          "base_uri": "https://localhost:8080/"
        },
        "id": "t6doqHCviGvX",
        "outputId": "b56e502c-62f7-453c-be78-8a511210953d"
      },
      "execution_count": null,
      "outputs": [
        {
          "output_type": "stream",
          "name": "stdout",
          "text": [
            "Machine Learning \n"
          ]
        }
      ]
    },
    {
      "cell_type": "code",
      "source": [
        "class Animal:\n",
        " \n",
        "   \n",
        "    animal = 'dog'  # Class Variable\n",
        " \n",
        "    \n",
        "    def __init__(self, breed, color): # The init method or constructor\n",
        " \n",
        "        # Instance Variable\n",
        "        self.breed = breed\n",
        "        self.color = color\n",
        " \n",
        " \n",
        "# Objects of Dog class\n",
        "Bruno = Animal(\"Pug\", \"brown\")\n",
        "Happy = Animal(\"Bulldog\", \"black\")\n",
        " \n",
        "print('Bruno details:')\n",
        "print('Bruno is a', Bruno.animal)\n",
        "print('Breed: ', Bruno.breed)\n",
        "print('Color: ', Bruno.color)\n",
        " \n",
        "print('\\n Happy details:')\n",
        "print('Happy is a', Happy.animal)\n",
        "print('Breed: ', Happy.breed)\n",
        "print('Color: ', Happy.color)\n",
        " "
      ],
      "metadata": {
        "id": "dWjRMhMrig18"
      },
      "execution_count": null,
      "outputs": []
    },
    {
      "cell_type": "markdown",
      "source": [
        "Web Scrapping\n",
        "\n",
        "requirements:\n",
        "1.beautifulsoup\n",
        "2.requests\n",
        "3.Internet Connection\n",
        "\n",
        "pip install beautifulsoup4\n",
        "pip install requests"
      ],
      "metadata": {
        "id": "CRnCN9rjlJu3"
      }
    },
    {
      "cell_type": "code",
      "source": [
        "\n",
        "\n",
        "import requests\n",
        "import bs4\n",
        "\n",
        "url=\"https://en.wikipedia.org/wiki/Geoffrey_Hinton\"\n",
        "\n",
        "response = requests.get(url)  # store the response\n",
        "\n",
        "bs = bs4.BeautifulSoup(response.text,\"html.parser\") \n",
        "# print(bs)\n",
        "# to parse the html texts \n",
        "formatted_text = bs.prettify() # to print the text in formatted way \n",
        "\n",
        "print(formatted_text)\n"
      ],
      "metadata": {
        "id": "wnugjAttldAL"
      },
      "execution_count": null,
      "outputs": []
    },
    {
      "cell_type": "code",
      "source": [
        "\"\"\"\n",
        "Getting the images of the websites\n",
        "\"\"\"\n",
        "list_imgs=bs.find_all('img') # finding the images\n",
        "print(list_imgs)  # printing all the images\n",
        "# formatted_imgs=bs.prettify() # to \n",
        "# # print(formatted_imgs)\n",
        "no_of_imgs=len(list_imgs) #finding the numbers of images\n",
        "no_of_imgs"
      ],
      "metadata": {
        "id": "OHoTzZCLw1t3"
      },
      "execution_count": null,
      "outputs": []
    },
    {
      "cell_type": "code",
      "source": [
        "import requests\n",
        "from bs4 import BeautifulSoup\n",
        "\n",
        "def main():\n",
        "\tid = input('Enter your id: ')\n",
        "\tparams = {\n",
        "      '__VIEWSTATE':'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',\n",
        "\t\t  '__EVENTVALIDATION':'/wEWAwK//ZeTBQL02Yi2DgLWlvWyA4puCegkJF6IpiMn/Kmdpomyy4+t','ctl00$CPHmaster$txtMemcd':id,'ctl00$CPHmaster$btnsearch':'Search Member'}\n",
        "\treq = requests.post('http://webopac.cit.ac.in/memberstatus.aspx', data=params)\n",
        "\tparse = BeautifulSoup(req.text, 'lxml')\n",
        "\t# print(parse)\n",
        "\tmember_name = parse.find('span', id='ctl00_CPHmaster_lblmemname').text.strip()\n",
        "\t#print(member_name)\n",
        "\tmember_code = parse.find('span', id='ctl00_CPHmaster_lblmemcd').text.strip()\n",
        "\tmember_dept = parse.find('span', id='ctl00_CPHmaster_lbldept').text.strip()\n",
        "\t#print(member_name, member_code, member_dept)\n",
        "\tmember_cat = parse.find('span', id='ctl00_CPHmaster_lblcat').text.strip()\n",
        "\tmember_dues = parse.find('span',id=\"ctl00_CPHmaster_lbldue\").text.strip()\n",
        "\tmember_book_count = parse.find('span', id='ctl00_CPHmaster_lblissued').text.strip()\n",
        "\t#print(member_cat, member_due, member_book_count)\n",
        "\titems = parse.find('table', id='ctl00_CPHmaster_DgIssued')\n",
        "\t#print(items)\n",
        "\trows = items.find_all('tr')[1:]\n",
        "\t#print(rows)\n",
        "\tfor row in rows:\n",
        "   \t\tcols = row.find_all('td')\n",
        "   \t\tfor col in cols:\n",
        "      \t\t\tprint(col.text)\n",
        "   \t\tprint('')\n",
        "\n",
        "\n",
        "if __name__=='__main__':\n",
        "\tmain()"
      ],
      "metadata": {
        "id": "zxtpbUvAsznU"
      },
      "execution_count": null,
      "outputs": []
    },
    {
      "cell_type": "code",
      "source": [
        ""
      ],
      "metadata": {
        "id": "nJkgEab_OC1T"
      },
      "execution_count": null,
      "outputs": []
    }
  ]
}