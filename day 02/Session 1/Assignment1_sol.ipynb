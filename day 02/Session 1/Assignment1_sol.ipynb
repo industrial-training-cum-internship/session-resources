{
  "nbformat": 4,
  "nbformat_minor": 0,
  "metadata": {
    "colab": {
      "name": "Assignment1.ipynb",
      "provenance": [],
      "collapsed_sections": []
    },
    "kernelspec": {
      "name": "python3",
      "display_name": "Python 3"
    },
    "language_info": {
      "name": "python"
    }
  },
  "cells": [
    {
      "cell_type": "markdown",
      "source": [
        "1.Find words with both alphabets and numbers in the given string \"Emma25 is Data scientist50 and AI Expert\""
      ],
      "metadata": {
        "id": "Pbpzd-zmbwnC"
      }
    },
    {
      "cell_type": "code",
      "execution_count": null,
      "metadata": {
        "id": "ywLqhS7ZZNnF"
      },
      "outputs": [],
      "source": [
        "given_input=\"Emma25 is Data scientist50 and AI Expert\"\n",
        "for i in given_input.split():\n",
        "  if not i.isalpha():\n",
        "    print(i)\n",
        "\n",
        "    \n",
        "    "
      ]
    },
    {
      "cell_type": "markdown",
      "source": [
        "2.Create a string made of the first, middle and last character (take inputs from users)"
      ],
      "metadata": {
        "id": "u__e1-SJbtBD"
      }
    },
    {
      "cell_type": "code",
      "source": [
        "str=input(\"You have entered the string: \")\n",
        "s=str.split()\n",
        "print(s)\n",
        "result=\"\"\n",
        "print(\"\\n The resultant string is:\")\n",
        "for i in s:\n",
        "    result=result+i[0]\n",
        "print(result)\n"
      ],
      "metadata": {
        "id": "SRwcAQb5Zev3"
      },
      "execution_count": null,
      "outputs": []
    },
    {
      "cell_type": "markdown",
      "source": [
        "3.Use a loop to display all the elements from a given list present at the  odd index positions(take inputs from users)"
      ],
      "metadata": {
        "id": "Hi_s9Va-boml"
      }
    },
    {
      "cell_type": "code",
      "source": [
        "lin = input(\"Enter the elements:\")\n",
        "print(\"Elements present at odd position: \");      \n",
        "for i in range(1, len(lin), 2):    #Loop through the array and make the itreator i by 2 \n",
        "    print(lin[i]);"
      ],
      "metadata": {
        "id": "Zc525lKWZey8"
      },
      "execution_count": null,
      "outputs": []
    },
    {
      "cell_type": "markdown",
      "source": [
        "4.Reverse a given integer number 789356"
      ],
      "metadata": {
        "id": "CDNuliBabkN6"
      }
    },
    {
      "cell_type": "code",
      "source": [
        "num = 76542 \n",
        "reverse_number = 0 #initialize the result as 0\n",
        "print(\"Given Number \", num)\n",
        "while num > 0:  #run the loop until the num is greater than 0\n",
        "    reminder = num % 10 # find out the remainder\n",
        "    reverse_number = (reverse_number * 10) + reminder\n",
        "    num = num // 10\n",
        "print(\"Revere Number \", reverse_number)\n"
      ],
      "metadata": {
        "id": "LybICjuEZfET"
      },
      "execution_count": null,
      "outputs": []
    },
    {
      "cell_type": "markdown",
      "source": [
        "5. Delete all the even elements present in the list 789356"
      ],
      "metadata": {
        "id": "45Ut68OTbfo8"
      }
    },
    {
      "cell_type": "code",
      "source": [
        "list=[7,8,9,3,5,6]\n",
        "for i in list:\n",
        "  if(i%2==0):\n",
        "    list.remove(i)\n",
        "    print(\"List  after removing even Items = \", list)"
      ],
      "metadata": {
        "id": "AB2H0xYqZfk8"
      },
      "execution_count": null,
      "outputs": []
    },
    {
      "cell_type": "markdown",
      "source": [
        "6.Replace each special symbol with # in the following string.\n",
        "\"EM#%ma25 is D*ata scien$%tist50!$ and AI Ex**pert\""
      ],
      "metadata": {
        "id": "E1jt2eapbZgb"
      }
    },
    {
      "cell_type": "code",
      "source": [
        "import string\n",
        "\n",
        "str1 = '/*Jon is @developer & musician!!'\n",
        "print(\"The original string is : \", str1)\n",
        "\n",
        "# Replace punctuations with #\n",
        "replace_char = '#'\n",
        "\n",
        "# string.punctuation to get the list of all special symbols\n",
        "for char in string.punctuation:\n",
        "    str1 = str1.replace(char, replace_char)\n",
        "\n",
        "print(\"The strings after replacement : \", str1)\n",
        "\n"
      ],
      "metadata": {
        "id": "06Xv_DZgZpp_"
      },
      "execution_count": null,
      "outputs": []
    },
    {
      "cell_type": "code",
      "source": [
        ""
      ],
      "metadata": {
        "id": "SNJzfVMaUpFN"
      },
      "execution_count": null,
      "outputs": []
    }
  ]
}