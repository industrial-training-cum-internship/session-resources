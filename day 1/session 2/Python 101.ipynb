{
 "cells": [
  {
   "cell_type": "markdown",
   "id": "fbbed23d",
   "metadata": {},
   "source": [
    "<h1 style=\"color:#3498db\" align=\"center\">Python 101</h1> "
   ]
  },
  {
   "cell_type": "markdown",
   "id": "ff76ae74",
   "metadata": {},
   "source": [
    "<p style=\"color:#3498db;text-align:center;font-size:110%\"; align=\"center\"><b>Project Based Industrial Training\n",
    "    on Blockchain, IoT and Machine Learning using Python</b>\n",
    "</p>\n",
    "\n",
    "<p style=\"color:#3498db;text-align:center;font-size:110%\"; align=\"center\"><b>Jointly Offered by NIELIT Guwahati and CIT Kokrajhar</b>\n",
    "</p>\n",
    "<hr>"
   ]
  },
  {
   "cell_type": "markdown",
   "id": "1ef5b8ca",
   "metadata": {},
   "source": [
    "# Why Python?\n",
    "\n",
    "1. High-level language\n",
    "2. Simple and Easy to learn\n",
    "3. Quick prototyping\n",
    "4. Large set of libraries"
   ]
  },
  {
   "cell_type": "markdown",
   "id": "0fe92918",
   "metadata": {},
   "source": [
    "# Python Version"
   ]
  },
  {
   "cell_type": "markdown",
   "id": "b3cd0978",
   "metadata": {},
   "source": [
    "Python 2.7 [https://python.org]()\n",
    "\n",
    "Python 3.# (We will use this throughout this programme)"
   ]
  },
  {
   "cell_type": "markdown",
   "id": "db6f503d",
   "metadata": {},
   "source": [
    "# Package Installation\n",
    "\n",
    "```bash\n",
    "pip install <package_name>\n",
    "```\n",
    "\n",
    "```bash\n",
    "pip install nltk\n",
    "```\n",
    "\n",
    "or \n",
    "\n",
    "```bash\n",
    "pip3 install <package_name>\n",
    "```\n",
    "\n",
    "```bash\n",
    "pip3 install nltk\n",
    "```\n",
    "\n",
    "or \n",
    "\n",
    "\n",
    "```bash\n",
    "conda install <package_name>\n",
    "```\n"
   ]
  },
  {
   "cell_type": "markdown",
   "id": "0b0ef88a",
   "metadata": {},
   "source": [
    "# Useful Python Packages\n",
    "\n",
    "1. Numpy \n",
    "2. Scipy\n",
    "3. Matplotlib\n",
    "4. Scikit-learn (Sklearn)\n",
    "5. Pandas\n",
    "6. NLTK\n",
    "7. Beautiful soup\n",
    "8. and many more"
   ]
  },
  {
   "cell_type": "code",
   "execution_count": 3,
   "id": "bb7b0c01",
   "metadata": {},
   "outputs": [
    {
     "name": "stdout",
     "output_type": "stream",
     "text": [
      "hello\n"
     ]
    }
   ],
   "source": [
    "print('hello')"
   ]
  },
  {
   "cell_type": "markdown",
   "id": "12423a19",
   "metadata": {},
   "source": [
    "# 1. Hello World"
   ]
  },
  {
   "cell_type": "code",
   "execution_count": 4,
   "id": "631113bb",
   "metadata": {},
   "outputs": [
    {
     "name": "stdout",
     "output_type": "stream",
     "text": [
      "Welcome to Project Based Industrial Training on Blockchain, IoT and Machine Learning using Python\n",
      "Happy learning!\n"
     ]
    }
   ],
   "source": [
    "print('Welcome to Project Based Industrial Training on Blockchain, IoT and Machine Learning using Python')\n",
    "\n",
    "# this is a comment\n",
    "# this is a another comment\n",
    "\n",
    "print('Happy learning!')"
   ]
  },
  {
   "cell_type": "markdown",
   "id": "80835b35",
   "metadata": {},
   "source": [
    "# 2. Variable and Data Types"
   ]
  },
  {
   "cell_type": "markdown",
   "id": "cba82d83",
   "metadata": {},
   "source": [
    "1. String\n",
    "2. Integer\n",
    "3. Boolean\n",
    "4. Float\n",
    "5. Complex Number"
   ]
  },
  {
   "cell_type": "code",
   "execution_count": 9,
   "id": "a0420615",
   "metadata": {},
   "outputs": [
    {
     "name": "stdout",
     "output_type": "stream",
     "text": [
      "10 20 40\n"
     ]
    }
   ],
   "source": [
    "# Here a and b are python variables\n",
    "# Notice the simplicity of python (No need of type declaration)\n",
    "a = 10\n",
    "b = 20 \n",
    "\n",
    "z = 40\n",
    "print(a,b,z)"
   ]
  },
  {
   "cell_type": "code",
   "execution_count": 11,
   "id": "a51e6939",
   "metadata": {},
   "outputs": [
    {
     "name": "stdout",
     "output_type": "stream",
     "text": [
      "Machine Learning\n",
      "Blockchain and IoT\n",
      "Machine Learning Blockchain and IoT\n",
      "<class 'str'> <class 'str'>\n",
      "\n",
      "Ok Google, tell me your favorite color.\n",
      "My favorite color is Blue\n",
      "\n",
      "\n",
      "hello \n",
      "world\n",
      "\n"
     ]
    }
   ],
   "source": [
    "# String data type\n",
    "a = \"Machine Learning\"\n",
    "print(a)\n",
    "\n",
    "b = 'Blockchain and IoT'\n",
    "print(b)\n",
    "\n",
    "print(a, b)\n",
    "\n",
    "print(type(a), type(b))\n",
    "\n",
    "\n",
    "# multi line string\n",
    "c = '''\n",
    "Ok Google, tell me your favorite color.\n",
    "My favorite color is Blue\n",
    "'''\n",
    "\n",
    "e = '''\n",
    "hello \n",
    "world\n",
    "'''\n",
    "\n",
    "print(c)\n",
    "\n",
    "print(e)"
   ]
  },
  {
   "cell_type": "code",
   "execution_count": 12,
   "id": "08aa709c",
   "metadata": {},
   "outputs": [
    {
     "name": "stdout",
     "output_type": "stream",
     "text": [
      "True\n",
      "False\n",
      "<class 'bool'> <class 'bool'>\n",
      "True <class 'bool'>\n"
     ]
    }
   ],
   "source": [
    "# Boolean data types\n",
    "\n",
    "d = True\n",
    "e = False\n",
    "\n",
    "print(d)\n",
    "print(e)\n",
    "\n",
    "print(type(d), type(e))\n",
    "\n",
    "print(d or e, type(d or e))"
   ]
  },
  {
   "cell_type": "code",
   "execution_count": 13,
   "id": "721c9981",
   "metadata": {},
   "outputs": [
    {
     "name": "stdout",
     "output_type": "stream",
     "text": [
      "10 <class 'int'>\n"
     ]
    }
   ],
   "source": [
    "# Integer data type\n",
    "\n",
    "d  = 10\n",
    "\n",
    "print(d, type(d))"
   ]
  },
  {
   "cell_type": "code",
   "execution_count": 15,
   "id": "16996d4b",
   "metadata": {},
   "outputs": [
    {
     "name": "stdout",
     "output_type": "stream",
     "text": [
      "100.5 <class 'float'>\n"
     ]
    }
   ],
   "source": [
    "# floating values\n",
    "\n",
    "e = 100.5\n",
    "\n",
    "print(e, type(e))"
   ]
  },
  {
   "cell_type": "code",
   "execution_count": 16,
   "id": "65969647",
   "metadata": {},
   "outputs": [
    {
     "name": "stdout",
     "output_type": "stream",
     "text": [
      "(2+3j) <class 'complex'>\n",
      "(4+3j) <class 'complex'>\n",
      "4.0 3.0\n"
     ]
    }
   ],
   "source": [
    "# complex values\n",
    "\n",
    "c_1 = 2 + 3j\n",
    "\n",
    "print(c_1, type(c_1))\n",
    "\n",
    "c_2 = complex(4, 3)\n",
    "\n",
    "print(c_2, type(c_2))\n",
    "\n",
    "print(c_2.real, c_2.imag)"
   ]
  },
  {
   "cell_type": "markdown",
   "id": "0f211b33",
   "metadata": {},
   "source": [
    "# 3. Inputs"
   ]
  },
  {
   "cell_type": "code",
   "execution_count": 17,
   "id": "c857309f",
   "metadata": {},
   "outputs": [
    {
     "name": "stdout",
     "output_type": "stream",
     "text": [
      "Enter a number: 10\n",
      "Number entered by the user is:  10\n",
      "<class 'str'>\n"
     ]
    }
   ],
   "source": [
    "u_inp = input('Enter a number: ')\n",
    "\n",
    "print('Number entered by the user is: ', u_inp)\n",
    "\n",
    "print(type(u_inp))"
   ]
  },
  {
   "cell_type": "markdown",
   "id": "278ea9a9",
   "metadata": {},
   "source": [
    "# 4. Type Conversion"
   ]
  },
  {
   "cell_type": "code",
   "execution_count": 19,
   "id": "be9581a7",
   "metadata": {},
   "outputs": [
    {
     "name": "stdout",
     "output_type": "stream",
     "text": [
      "51 51 <class 'int'> <class 'str'>\n"
     ]
    }
   ],
   "source": [
    "# Integer to String conversion\n",
    "x = 51\n",
    "s = str(x)\n",
    "print(x, s, type(x), type(s))"
   ]
  },
  {
   "cell_type": "code",
   "execution_count": 21,
   "id": "3c3af9f5",
   "metadata": {},
   "outputs": [
    {
     "name": "stdout",
     "output_type": "stream",
     "text": [
      "<class 'str'> 10 <class 'int'>\n"
     ]
    }
   ],
   "source": [
    "# String to Integer conversion\n",
    "\n",
    "i = int(u_inp)\n",
    "\n",
    "print(type(u_inp), i, type(i))"
   ]
  },
  {
   "cell_type": "code",
   "execution_count": 22,
   "id": "c7924bcc",
   "metadata": {},
   "outputs": [
    {
     "data": {
      "text/plain": [
       "3"
      ]
     },
     "execution_count": 22,
     "metadata": {},
     "output_type": "execute_result"
    }
   ],
   "source": [
    "int(3.14)"
   ]
  },
  {
   "cell_type": "code",
   "execution_count": 23,
   "id": "00ef2feb",
   "metadata": {},
   "outputs": [
    {
     "data": {
      "text/plain": [
       "3"
      ]
     },
     "execution_count": 23,
     "metadata": {},
     "output_type": "execute_result"
    }
   ],
   "source": [
    "int(3.9999)"
   ]
  },
  {
   "cell_type": "markdown",
   "id": "8c6278eb",
   "metadata": {},
   "source": [
    "# 5. Format Printing"
   ]
  },
  {
   "cell_type": "code",
   "execution_count": 25,
   "id": "3dffea43",
   "metadata": {},
   "outputs": [
    {
     "name": "stdout",
     "output_type": "stream",
     "text": [
      "10\n",
      "20\n",
      "10 20\n",
      "X =  10 Y =  20\n",
      "X = 10, Y = 20, Z = 30\n"
     ]
    }
   ],
   "source": [
    "x = 10\n",
    "y = 20\n",
    "\n",
    "z = 30\n",
    "\n",
    "print(x)\n",
    "\n",
    "print(y)\n",
    "\n",
    "print(x, y)\n",
    "\n",
    "print('X = ', x, 'Y = ', y)\n",
    "\n",
    "print('X = {}, Y = {}, Z = {}'.format(x , y, z))"
   ]
  },
  {
   "cell_type": "code",
   "execution_count": 29,
   "id": "4d463a4d",
   "metadata": {},
   "outputs": [
    {
     "name": "stdout",
     "output_type": "stream",
     "text": [
      "5.258 6.24\n",
      "5 6\n"
     ]
    }
   ],
   "source": [
    "# %d : integer\n",
    "# %f : float\n",
    "# %s : string\n",
    "\n",
    "print('%.3f %.2f' %(5.2579, 6.243))\n",
    "\n",
    "print('%d %d' %(5.257, 6.243))"
   ]
  },
  {
   "cell_type": "markdown",
   "id": "6d50ead7",
   "metadata": {},
   "source": [
    "# 6. Operators"
   ]
  },
  {
   "cell_type": "markdown",
   "id": "bb3901c7",
   "metadata": {},
   "source": [
    "# 6. 1 Arithmetic "
   ]
  },
  {
   "cell_type": "code",
   "execution_count": 30,
   "id": "b3f6267d",
   "metadata": {},
   "outputs": [
    {
     "name": "stdout",
     "output_type": "stream",
     "text": [
      "Add 12\n",
      "Subtract 8\n",
      "Multiply 20\n",
      "Division 5.0\n",
      "Remainder/Modulus 0\n",
      "Floor Division 5\n"
     ]
    }
   ],
   "source": [
    "n1 = 10\n",
    "n2 = 2\n",
    "\n",
    "print('Add', n1 + n2)\n",
    "\n",
    "print('Subtract', n1 - n2)\n",
    "\n",
    "print('Multiply', n1 * n2)\n",
    "\n",
    "print('Division', n1 / n2)\n",
    "\n",
    "# Remainder\n",
    "print('Remainder/Modulus', n1 % n2) \n",
    "\n",
    "# Quotient\n",
    "print('Floor Division', n1 // n2) "
   ]
  },
  {
   "cell_type": "code",
   "execution_count": 31,
   "id": "b2f3a965",
   "metadata": {},
   "outputs": [
    {
     "name": "stdout",
     "output_type": "stream",
     "text": [
      "Division 6.666666666666667\n",
      "Floor Division 6\n"
     ]
    }
   ],
   "source": [
    "n3 = 20\n",
    "n4 = 3\n",
    "\n",
    "print('Division', n3 / n4)\n",
    "\n",
    "print('Floor Division', n3 // n4) # Quotient"
   ]
  },
  {
   "cell_type": "code",
   "execution_count": 32,
   "id": "80625c16",
   "metadata": {},
   "outputs": [
    {
     "name": "stdout",
     "output_type": "stream",
     "text": [
      "Exponent 9\n",
      "Exponent 1.7320508075688772\n",
      "Exponent 0.1111111111111111\n"
     ]
    }
   ],
   "source": [
    "# n4 ^ 2\n",
    "print('Exponent', n4 ** 2)\n",
    "\n",
    "# n4 ^ 0.5\n",
    "print('Exponent', n4 ** 0.5)\n",
    "\n",
    "# n4 ^ -2\n",
    "print('Exponent', n4 ** -2)"
   ]
  },
  {
   "cell_type": "markdown",
   "id": "2c03cc60",
   "metadata": {},
   "source": [
    "# 6.2 Assignment"
   ]
  },
  {
   "cell_type": "code",
   "execution_count": 33,
   "id": "88a58b30",
   "metadata": {},
   "outputs": [
    {
     "name": "stdout",
     "output_type": "stream",
     "text": [
      "10 20 30 This is a string\n",
      "<class 'int'> <class 'int'> <class 'int'> <class 'str'>\n"
     ]
    }
   ],
   "source": [
    "n_1 = 10\n",
    "n_2 = 20\n",
    "\n",
    "n_3, s_1 = 30, \"This is a string\"\n",
    "\n",
    "print(n_1, n_2, n_3, s_1)\n",
    "\n",
    "print(type(n_1), type(n_2), type(n_3), type(s_1))"
   ]
  },
  {
   "cell_type": "code",
   "execution_count": 36,
   "id": "0097b182",
   "metadata": {},
   "outputs": [
    {
     "name": "stdout",
     "output_type": "stream",
     "text": [
      "20.5\n",
      "0.5\n",
      "0.025\n",
      "9.094947017729293e-33\n"
     ]
    }
   ],
   "source": [
    "# n_1 = n_1 + n_2\n",
    "\n",
    "n_1 += n_2 \n",
    "\n",
    "print(n_1)\n",
    "\n",
    "# similarly other operators\n",
    "\n",
    "n_1 -= n_2\n",
    "\n",
    "print(n_1)\n",
    "\n",
    "n_1 /= n_2 \n",
    "\n",
    "print(n_1)\n",
    "\n",
    "n_1 **= n_2 \n",
    "print(n_1)"
   ]
  },
  {
   "cell_type": "markdown",
   "id": "500ca22f",
   "metadata": {},
   "source": [
    "# 6.3 Relational"
   ]
  },
  {
   "cell_type": "code",
   "execution_count": 37,
   "id": "7a7b63fd",
   "metadata": {},
   "outputs": [
    {
     "name": "stdout",
     "output_type": "stream",
     "text": [
      "True\n",
      "False\n",
      "True\n",
      "False\n",
      "True\n",
      "True\n",
      "True\n"
     ]
    }
   ],
   "source": [
    "print(10 == 10)\n",
    "\n",
    "print(10 == 20)\n",
    "\n",
    "print(10 != 20)\n",
    "\n",
    "print(10 > 20)\n",
    "\n",
    "print(10 < 20)\n",
    "\n",
    "print(21 >= 20)\n",
    "\n",
    "print(20 <= 20)"
   ]
  },
  {
   "cell_type": "markdown",
   "id": "d9af907d",
   "metadata": {},
   "source": [
    "# 6.4 Logical"
   ]
  },
  {
   "cell_type": "code",
   "execution_count": 38,
   "id": "2e1598ac",
   "metadata": {},
   "outputs": [
    {
     "name": "stdout",
     "output_type": "stream",
     "text": [
      "False\n",
      "True\n",
      "False\n"
     ]
    }
   ],
   "source": [
    "b_1 = True\n",
    "b_2 = False\n",
    "\n",
    "print(b_1 and b_2)\n",
    "\n",
    "print(b_1 or b_2)\n",
    "\n",
    "print(not b_1)"
   ]
  },
  {
   "cell_type": "markdown",
   "id": "f0cd6365",
   "metadata": {},
   "source": [
    "# 6.5 Bitwise"
   ]
  },
  {
   "cell_type": "code",
   "execution_count": 40,
   "id": "c57e6aeb",
   "metadata": {},
   "outputs": [],
   "source": [
    "b = 15 # 1111\n",
    "e = 6 #  0110"
   ]
  },
  {
   "cell_type": "code",
   "execution_count": 41,
   "id": "0be258b6",
   "metadata": {},
   "outputs": [
    {
     "name": "stdout",
     "output_type": "stream",
     "text": [
      "6\n",
      "15\n",
      "9\n",
      "-16\n",
      "60\n",
      "1\n"
     ]
    }
   ],
   "source": [
    "# and\n",
    "# 1111 \n",
    "# 0110\n",
    "#----- BITWISE AND ---\n",
    "# 0110\n",
    "\n",
    "print(b & e)\n",
    "\n",
    "# or\n",
    "print(b | e)\n",
    "\n",
    "# xor\n",
    "print(b ^ e)\n",
    "\n",
    "# one's complement\n",
    "print(~b) \n",
    "\n",
    "# Left Shift\n",
    "print(b << 2)\n",
    "\n",
    "# Right Shift\n",
    "print(e >> 2)"
   ]
  },
  {
   "cell_type": "markdown",
   "id": "809f5ae7",
   "metadata": {},
   "source": [
    "# 6.6 Membership"
   ]
  },
  {
   "cell_type": "code",
   "execution_count": 44,
   "id": "ce59f1c0",
   "metadata": {},
   "outputs": [
    {
     "name": "stdout",
     "output_type": "stream",
     "text": [
      "False\n",
      "False\n"
     ]
    }
   ],
   "source": [
    "print('ba' in 'happy')\n",
    "print('wo' not in 'world')"
   ]
  },
  {
   "cell_type": "markdown",
   "id": "8a631795",
   "metadata": {},
   "source": [
    "# 6.7 Identity"
   ]
  },
  {
   "cell_type": "code",
   "execution_count": 47,
   "id": "7b741357",
   "metadata": {},
   "outputs": [
    {
     "name": "stdout",
     "output_type": "stream",
     "text": [
      "True\n"
     ]
    }
   ],
   "source": [
    "s_1 = 'abcd'\n",
    "s_2 = 'abcd'\n",
    "\n",
    "print(s_1 is s_2)"
   ]
  },
  {
   "cell_type": "markdown",
   "id": "8fe7c810",
   "metadata": {},
   "source": [
    "# 7 Conditional Statement\n",
    "\n",
    "Identation"
   ]
  },
  {
   "cell_type": "code",
   "execution_count": 53,
   "id": "23bdbb45",
   "metadata": {},
   "outputs": [
    {
     "name": "stdout",
     "output_type": "stream",
     "text": [
      "Even\n"
     ]
    }
   ],
   "source": [
    "x = 10\n",
    "\n",
    "if x % 2 == 0:\n",
    "    print(\"Even\")\n",
    "else:\n",
    "    print(\"Odd\")"
   ]
  },
  {
   "cell_type": "markdown",
   "id": "dd4212be",
   "metadata": {},
   "source": [
    "# 8 Loops"
   ]
  },
  {
   "cell_type": "code",
   "execution_count": 58,
   "id": "0a6066f6",
   "metadata": {},
   "outputs": [
    {
     "name": "stdout",
     "output_type": "stream",
     "text": [
      "0\n",
      "2\n",
      "4\n",
      "6\n",
      "8\n",
      "10\n",
      "==========\n",
      "0\n",
      "2\n",
      "4\n",
      "6\n",
      "8\n",
      "10\n"
     ]
    }
   ],
   "source": [
    "# range(a, b, step = 1)\n",
    "\n",
    "# b is not inclusive\n",
    "\n",
    "range(1, 10, 2)\n",
    "# 1, 3, 5, \n",
    "\n",
    "range(1, i)\n",
    "# 1 to i-1 \n",
    "\n",
    "range(1, 3, 1)\n",
    "# 1, 2\n",
    "\n",
    "range(0, 11, 2)\n",
    "# [0, 2, 4, 6, 8, 10]\n",
    "\n",
    "for i in [0,2,4,6,8,10]:\n",
    "    print(i)\n",
    "\n",
    "print(\"==========\")\n",
    "\n",
    "for i in range(0, 11, 2):\n",
    "    print(i)"
   ]
  },
  {
   "cell_type": "markdown",
   "id": "725fbebd",
   "metadata": {},
   "source": [
    "# 9. Strings"
   ]
  },
  {
   "cell_type": "code",
   "execution_count": 70,
   "id": "fb8db350",
   "metadata": {},
   "outputs": [
    {
     "name": "stdout",
     "output_type": "stream",
     "text": [
      "Industrial training\n",
      "INDUSTRIAL TRAINING\n",
      " industrial training\n",
      "   industrial training   \n",
      "industriazz training\n",
      "industrial training\n",
      "world\n"
     ]
    }
   ],
   "source": [
    "s = \"industrial training\"\n",
    "print(s.capitalize())  # Capitalize a string; prints \"Hello\"\n",
    "\n",
    "print(s.upper())       # Convert a string to uppercase; prints \"HELLO\"\n",
    "\n",
    "print(s.rjust(20))      # Right-justify a string, padding with spaces; prints \"  hello\"\n",
    "\n",
    "print(s.center(25))     # Center a string, padding with spaces; prints \" hello \"\n",
    "\n",
    "\n",
    "print(s.replace('l', 'zz'))  # Replace all instances of one substring with another;\n",
    "                                # prints \"he(ell)(ell)o\"\n",
    "print(s)\n",
    "\n",
    "print('  world '.strip())  # Strip leading and trailing whitespace; prints \"world\""
   ]
  },
  {
   "cell_type": "markdown",
   "id": "eb5070b3",
   "metadata": {},
   "source": [
    "# Containers\n",
    "\n",
    "Python includes several built-in container types: lists, dictionaries, sets, and tuples."
   ]
  },
  {
   "cell_type": "markdown",
   "id": "ce02f66a",
   "metadata": {},
   "source": [
    "# 10. List"
   ]
  },
  {
   "cell_type": "code",
   "execution_count": 88,
   "id": "178ae556",
   "metadata": {},
   "outputs": [
    {
     "name": "stdout",
     "output_type": "stream",
     "text": [
      "[3, 1, 5, 'Training', 100.5] 5\n",
      "Training\n",
      "[3, 1, 'blockchain', 'Training', 100.5]\n",
      "[3, 1, 'blockchain', 'Training', 100.5, 'machine learning']\n",
      "machine learning\n",
      "[3, 1, 'blockchain', 'Training', 100.5]\n"
     ]
    }
   ],
   "source": [
    "xs = [3, 1, 5, \"Training\", 100.5]    # Create a list\n",
    "# print(xs)\n",
    "print(xs, xs[2])  # Prints \"[3, 1, 2] 2\"\n",
    "print(xs[-2])     # Negative indices count from the end of the list; prints \"2\"\n",
    "xs[2] = 'blockchain'     # Lists can contain elements of different types\n",
    "print(xs)         # Prints \"[3, 1, 'foo']\"\n",
    "xs.append('machine learning')  # Add a new element to the end of the list\n",
    "print(xs)         # Prints \"[3, 1, 'foo', 'bar']\"\n",
    "x = xs.pop()      # Remove and return the last element of the list\n",
    "print(x)\n",
    "print(xs)      # Prints \"bar [3, 1, 'foo']\""
   ]
  },
  {
   "cell_type": "markdown",
   "id": "27b7b1b6",
   "metadata": {},
   "source": [
    "# 11. Slicing concept"
   ]
  },
  {
   "cell_type": "code",
   "execution_count": 95,
   "id": "98dc754f",
   "metadata": {},
   "outputs": [
    {
     "name": "stdout",
     "output_type": "stream",
     "text": [
      "[10, 11, 12, 13, 14] <class 'list'>\n",
      "[12, 13]\n",
      "[12, 13, 14]\n"
     ]
    }
   ],
   "source": [
    "#range(a, b, step)\n",
    "\n",
    "#range(1)\n",
    "# 0 \n",
    "\n",
    "#range(3)\n",
    "# 0 1 2\n",
    "\n",
    "#range (5)\n",
    "#  List  10 11 12 13 14\n",
    "#  Index 0  1  2  3  4\n",
    "\n",
    "nums = list(range(10, 15, 1))     # range is a built-in function that creates a list of integers\n",
    "\n",
    "\n",
    "print(nums, type(nums))               # Prints \"[0, 1, 2, 3, 4]\"\n",
    "print(nums[2:4])          # Get a slice from index 2 to 4 (exclusive); prints \"[2, 3]\"\n",
    "print(nums[2:])           # Get a slice from index 2 to the end; prints \"[2, 3, 4]\"\n",
    "# print(nums[:2])           # Get a slice from the start to index 2 (exclusive); prints \"[0, 1]\"\n",
    "# print(nums[:])            # Get a slice of the whole list; prints \"[0, 1, 2, 3, 4]\"\n",
    "# print(nums[:-1])          # Slice indices can be negative; prints \"[0, 1, 2, 3]\"\n",
    "# nums[2:4] = [8, 9]        # Assign a new sublist to a slice\n",
    "# print(nums)               # Prints \"[0, 1, 8, 9, 4]\""
   ]
  },
  {
   "cell_type": "markdown",
   "id": "6435495d",
   "metadata": {},
   "source": [
    "# 12. Loops Over List"
   ]
  },
  {
   "cell_type": "code",
   "execution_count": null,
   "id": "f55de018",
   "metadata": {},
   "outputs": [],
   "source": [
    "animals = ['cat', 'dog', 'monkey']\n",
    "for animal in animals:\n",
    "    print(animal)"
   ]
  },
  {
   "cell_type": "code",
   "execution_count": null,
   "id": "887e5471",
   "metadata": {},
   "outputs": [],
   "source": [
    "animals = ['cat', 'dog', 'monkey']\n",
    "for idx, animal in enumerate(animals):\n",
    "    print('#%d: %s' % (idx + 1, animal))"
   ]
  },
  {
   "cell_type": "markdown",
   "id": "35292985",
   "metadata": {},
   "source": [
    "# 13. List Comprehension"
   ]
  },
  {
   "cell_type": "code",
   "execution_count": null,
   "id": "5ca37a38",
   "metadata": {},
   "outputs": [],
   "source": [
    "nums = [0, 1, 2, 3, 4]\n",
    "squares = []\n",
    "for x in nums:\n",
    "    squares.append(x ** 2) # append method at elements in the list\n",
    "print(squares)   # Prints [0, 1, 4, 9, 16]"
   ]
  },
  {
   "cell_type": "code",
   "execution_count": null,
   "id": "2f3ca202",
   "metadata": {},
   "outputs": [],
   "source": [
    "nums = [0, 1, 2, 3, 4]\n",
    "squares = [x ** 2 for x in nums]\n",
    "print(squares)   # Prints [0, 1, 4, 9, 16]"
   ]
  },
  {
   "cell_type": "code",
   "execution_count": null,
   "id": "f5ae0e78",
   "metadata": {},
   "outputs": [],
   "source": [
    "# list comprehension with condition\n",
    "\n",
    "nums = [0, 1, 2, 3, 4]\n",
    "even_squares = [x ** 2 for x in nums if x % 2 == 0]\n",
    "print(even_squares)  # Prints \"[0, 4, 16]\""
   ]
  },
  {
   "cell_type": "markdown",
   "id": "30bbb5ed",
   "metadata": {},
   "source": [
    "# 14. Dictionaries"
   ]
  },
  {
   "cell_type": "code",
   "execution_count": null,
   "id": "bcd3e3eb",
   "metadata": {},
   "outputs": [],
   "source": [
    "d = {'cat': 'cute', 'dog': 'furry'}  # Create a new dictionary with some data\n",
    "\n",
    "print(d)\n",
    "\n",
    "print(d['cat'])       # Get an entry from a dictionary; prints \"cute\"\n",
    "print('cat' in d)     # Check if a dictionary has a given key; prints \"True\"\n",
    "d['fish'] = 'wet'     # Set an entry in a dictionary\n",
    "print(d['fish'])      # Prints \"wet\"\n",
    "\n",
    "print(d)\n",
    "\n",
    "del d['fish']         # Remove an element from a dictionary\n",
    "\n",
    "print(d)"
   ]
  },
  {
   "cell_type": "markdown",
   "id": "d93e306f",
   "metadata": {},
   "source": [
    "# 15. Functions"
   ]
  },
  {
   "cell_type": "code",
   "execution_count": null,
   "id": "eef86edd",
   "metadata": {},
   "outputs": [],
   "source": [
    "def hello():\n",
    "    print(\"hello called\")"
   ]
  },
  {
   "cell_type": "code",
   "execution_count": null,
   "id": "acd737ab",
   "metadata": {},
   "outputs": [],
   "source": [
    "hello()"
   ]
  },
  {
   "cell_type": "code",
   "execution_count": null,
   "id": "603c3801",
   "metadata": {},
   "outputs": [],
   "source": [
    "def hello(name, uppercase=False):\n",
    "    if uppercase:\n",
    "        print('HELLO, %s!' % name.upper())\n",
    "    else:\n",
    "        print('Hello, %s' % name)\n",
    "\n",
    "hello('Bob') # Prints \"Hello, Bob\"\n",
    "hello('Fred', uppercase=True)  # Prints \"HELLO, FRED!\""
   ]
  },
  {
   "cell_type": "markdown",
   "id": "272a8b69",
   "metadata": {},
   "source": [
    "# 16. Serialization and Deserialization"
   ]
  },
  {
   "cell_type": "code",
   "execution_count": null,
   "id": "dfd871b5",
   "metadata": {},
   "outputs": [],
   "source": [
    "import pickle"
   ]
  },
  {
   "cell_type": "code",
   "execution_count": null,
   "id": "8cb43db1",
   "metadata": {},
   "outputs": [],
   "source": [
    "\n",
    "data = {\n",
    "    'a': [1, 4.0],\n",
    "    'b': (\"a red fox\"),\n",
    "    'c': [None, True, False]\n",
    "}\n",
    "\n",
    "with open('data.bin', 'wb') as f:\n",
    "    pickle.dump(data, f)"
   ]
  },
  {
   "cell_type": "code",
   "execution_count": null,
   "id": "5fa7069c",
   "metadata": {},
   "outputs": [],
   "source": [
    "!dir"
   ]
  },
  {
   "cell_type": "code",
   "execution_count": null,
   "id": "bce1c826",
   "metadata": {},
   "outputs": [],
   "source": [
    "with open('data.bin', 'rb') as f:\n",
    "  data = pickle.load(f)\n",
    "\n",
    "  print(data)"
   ]
  },
  {
   "cell_type": "code",
   "execution_count": null,
   "id": "37862f7c",
   "metadata": {},
   "outputs": [],
   "source": []
  }
 ],
 "metadata": {
  "kernelspec": {
   "display_name": "Python 3",
   "language": "python",
   "name": "python3"
  },
  "language_info": {
   "codemirror_mode": {
    "name": "ipython",
    "version": 3
   },
   "file_extension": ".py",
   "mimetype": "text/x-python",
   "name": "python",
   "nbconvert_exporter": "python",
   "pygments_lexer": "ipython3",
   "version": "3.8.8"
  }
 },
 "nbformat": 4,
 "nbformat_minor": 5
}
