{
  "nbformat": 4,
  "nbformat_minor": 0,
  "metadata": {
    "colab": {
      "name": "Untitled1.ipynb",
      "provenance": []
    },
    "kernelspec": {
      "name": "python3",
      "display_name": "Python 3"
    },
    "language_info": {
      "name": "python"
    }
  },
  "cells": [
    {
      "cell_type": "markdown",
      "source": [
        "1.Find words with both alphabets and numbers in the given string \"Emma25 is Data scientist50 and AI Expert\""
      ],
      "metadata": {
        "id": "Pbpzd-zmbwnC"
      }
    },
    {
      "cell_type": "code",
      "execution_count": null,
      "metadata": {
        "id": "ywLqhS7ZZNnF"
      },
      "outputs": [],
      "source": [
        ""
      ]
    },
    {
      "cell_type": "markdown",
      "source": [
        "2.Create a string made of the first, middle and last character (take inputs from users)"
      ],
      "metadata": {
        "id": "u__e1-SJbtBD"
      }
    },
    {
      "cell_type": "code",
      "source": [
        ""
      ],
      "metadata": {
        "id": "SRwcAQb5Zev3"
      },
      "execution_count": null,
      "outputs": []
    },
    {
      "cell_type": "markdown",
      "source": [
        "3.Use a loop to display all the elements from a given list present at the  odd index positions(take inputs from users)"
      ],
      "metadata": {
        "id": "Hi_s9Va-boml"
      }
    },
    {
      "cell_type": "code",
      "source": [
        ""
      ],
      "metadata": {
        "id": "Zc525lKWZey8"
      },
      "execution_count": null,
      "outputs": []
    },
    {
      "cell_type": "markdown",
      "source": [
        "4.Reverse a given integer number 789356"
      ],
      "metadata": {
        "id": "CDNuliBabkN6"
      }
    },
    {
      "cell_type": "code",
      "source": [
        ""
      ],
      "metadata": {
        "id": "LybICjuEZfET"
      },
      "execution_count": null,
      "outputs": []
    },
    {
      "cell_type": "markdown",
      "source": [
        "5. Delete all the even elements present in the list 789356"
      ],
      "metadata": {
        "id": "45Ut68OTbfo8"
      }
    },
    {
      "cell_type": "code",
      "source": [
        ""
      ],
      "metadata": {
        "id": "AB2H0xYqZfk8"
      },
      "execution_count": null,
      "outputs": []
    },
    {
      "cell_type": "markdown",
      "source": [
        "6.Replace each special symbol with # in the following string.\n",
        "\"EM#%ma25 is D*ata scien$%tist50!$ and AI Ex**pert\""
      ],
      "metadata": {
        "id": "E1jt2eapbZgb"
      }
    },
    {
      "cell_type": "code",
      "source": [
        "\n"
      ],
      "metadata": {
        "id": "06Xv_DZgZpp_"
      },
      "execution_count": null,
      "outputs": []
    }
  ]
}